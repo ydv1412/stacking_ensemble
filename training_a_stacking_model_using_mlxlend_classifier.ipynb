{
 "cells": [
  {
   "cell_type": "code",
   "execution_count": 3,
   "metadata": {},
   "outputs": [
    {
     "name": "stdout",
     "output_type": "stream",
     "text": [
      "Collecting mlxtend\n",
      "  Downloading mlxtend-0.18.0-py2.py3-none-any.whl (1.3 MB)\n",
      "Requirement already satisfied: joblib>=0.13.2 in c:\\users\\shri\\anaconda3\\lib\\site-packages (from mlxtend) (0.17.0)\n",
      "Requirement already satisfied: scipy>=1.2.1 in c:\\users\\shri\\anaconda3\\lib\\site-packages (from mlxtend) (1.5.2)\n",
      "Requirement already satisfied: setuptools in c:\\users\\shri\\anaconda3\\lib\\site-packages (from mlxtend) (50.3.1.post20201107)\n",
      "Requirement already satisfied: pandas>=0.24.2 in c:\\users\\shri\\anaconda3\\lib\\site-packages (from mlxtend) (1.1.3)\n",
      "Requirement already satisfied: numpy>=1.16.2 in c:\\users\\shri\\anaconda3\\lib\\site-packages (from mlxtend) (1.19.2)\n",
      "Requirement already satisfied: matplotlib>=3.0.0 in c:\\users\\shri\\anaconda3\\lib\\site-packages (from mlxtend) (3.3.2)\n",
      "Requirement already satisfied: scikit-learn>=0.20.3 in c:\\users\\shri\\anaconda3\\lib\\site-packages (from mlxtend) (0.23.2)\n",
      "Requirement already satisfied: pytz>=2017.2 in c:\\users\\shri\\anaconda3\\lib\\site-packages (from pandas>=0.24.2->mlxtend) (2020.1)\n",
      "Requirement already satisfied: python-dateutil>=2.7.3 in c:\\users\\shri\\anaconda3\\lib\\site-packages (from pandas>=0.24.2->mlxtend) (2.8.1)\n",
      "Requirement already satisfied: pillow>=6.2.0 in c:\\users\\shri\\anaconda3\\lib\\site-packages (from matplotlib>=3.0.0->mlxtend) (8.0.1)\n",
      "Requirement already satisfied: kiwisolver>=1.0.1 in c:\\users\\shri\\anaconda3\\lib\\site-packages (from matplotlib>=3.0.0->mlxtend) (1.3.0)\n",
      "Requirement already satisfied: cycler>=0.10 in c:\\users\\shri\\anaconda3\\lib\\site-packages (from matplotlib>=3.0.0->mlxtend) (0.10.0)\n",
      "Requirement already satisfied: pyparsing!=2.0.4,!=2.1.2,!=2.1.6,>=2.0.3 in c:\\users\\shri\\anaconda3\\lib\\site-packages (from matplotlib>=3.0.0->mlxtend) (2.4.7)\n",
      "Requirement already satisfied: certifi>=2020.06.20 in c:\\users\\shri\\anaconda3\\lib\\site-packages (from matplotlib>=3.0.0->mlxtend) (2020.6.20)\n",
      "Requirement already satisfied: threadpoolctl>=2.0.0 in c:\\users\\shri\\anaconda3\\lib\\site-packages (from scikit-learn>=0.20.3->mlxtend) (2.1.0)\n",
      "Requirement already satisfied: six>=1.5 in c:\\users\\shri\\anaconda3\\lib\\site-packages (from python-dateutil>=2.7.3->pandas>=0.24.2->mlxtend) (1.15.0)\n",
      "Installing collected packages: mlxtend\n",
      "Successfully installed mlxtend-0.18.0\n"
     ]
    }
   ],
   "source": [
    "!pip3 install mlxtend"
   ]
  },
  {
   "cell_type": "code",
   "execution_count": 30,
   "metadata": {},
   "outputs": [],
   "source": [
    "from mlxtend.classifier import StackingClassifier\n",
    "from sklearn.ensemble import GradientBoostingClassifier\n",
    "from sklearn.svm import SVC\n",
    "from sklearn.ensemble import RandomForestClassifier\n",
    "from sklearn.linear_model import LogisticRegression\n",
    "\n",
    "\n",
    "import pandas as pd\n",
    "from sklearn import model_selection\n",
    "from sklearn.metrics import accuracy_score\n",
    "from sklearn.metrics import plot_confusion_matrix\n",
    "from sklearn.model_selection import train_test_split"
   ]
  },
  {
   "cell_type": "code",
   "execution_count": 48,
   "metadata": {},
   "outputs": [],
   "source": [
    "data_frame = pd.read_csv(\"water_potability.csv\")\n",
    "data_labels = data_frame[\"Potability\"]\n",
    "\n",
    "features = ['ph', 'Hardness', 'Solids', 'Chloramines', 'Sulfate', 'Conductivity',\n",
    "       'Organic_carbon', 'Trihalomethanes', 'Turbidity']\n",
    "data = data_frame[features]\n",
    "\n",
    "x_train , x_test , y_train , y_test = train_test_split( data , data_labels , test_size = 0.3 )\n",
    "\n",
    "\n",
    "x_train = pd.get_dummies(x_train)\n",
    "x_test = pd.get_dummies(x_test)"
   ]
  },
  {
   "cell_type": "code",
   "execution_count": 49,
   "metadata": {},
   "outputs": [],
   "source": [
    "x_train.ph.fillna(value = x_train.ph.mean() , inplace = True)\n",
    "x_train.Sulfate.fillna(value = x_train.Sulfate.mean() , inplace = True)\n",
    "x_train.Trihalomethanes.fillna(value = x_train.Trihalomethanes.mean() , inplace = True)\n",
    "\n",
    "\n",
    "x_test.ph.fillna(value = x_test.ph.mean() , inplace = True)\n",
    "x_test.Sulfate.fillna(value = x_test.Sulfate.mean() , inplace = True)\n",
    "x_test.Trihalomethanes.fillna(value = x_test.Trihalomethanes.mean() , inplace = True)"
   ]
  },
  {
   "cell_type": "code",
   "execution_count": 50,
   "metadata": {},
   "outputs": [
    {
     "name": "stdout",
     "output_type": "stream",
     "text": [
      "(2293, 9)\n",
      "(983, 9)\n",
      "(2293,)\n",
      "(983,)\n"
     ]
    }
   ],
   "source": [
    "print(x_train.shape)\n",
    "print(x_test.shape)\n",
    "print(y_train.shape)\n",
    "print(y_test.shape)"
   ]
  },
  {
   "cell_type": "code",
   "execution_count": 51,
   "metadata": {},
   "outputs": [
    {
     "data": {
      "text/plain": [
       "ph                 0\n",
       "Hardness           0\n",
       "Solids             0\n",
       "Chloramines        0\n",
       "Sulfate            0\n",
       "Conductivity       0\n",
       "Organic_carbon     0\n",
       "Trihalomethanes    0\n",
       "Turbidity          0\n",
       "dtype: int64"
      ]
     },
     "execution_count": 51,
     "metadata": {},
     "output_type": "execute_result"
    }
   ],
   "source": [
    "x_train.isnull().sum()"
   ]
  },
  {
   "cell_type": "code",
   "execution_count": 52,
   "metadata": {},
   "outputs": [
    {
     "data": {
      "text/plain": [
       "ph                 0\n",
       "Hardness           0\n",
       "Solids             0\n",
       "Chloramines        0\n",
       "Sulfate            0\n",
       "Conductivity       0\n",
       "Organic_carbon     0\n",
       "Trihalomethanes    0\n",
       "Turbidity          0\n",
       "dtype: int64"
      ]
     },
     "execution_count": 52,
     "metadata": {},
     "output_type": "execute_result"
    }
   ],
   "source": [
    "x_test.isnull().sum()"
   ]
  },
  {
   "cell_type": "code",
   "execution_count": 16,
   "metadata": {},
   "outputs": [],
   "source": [
    "#### now we are taking \"svc\" , \"random_forest\" and \"GRADIENT_Desent_classifier as base models\" and Logistic regression model as\n",
    "#### meta model"
   ]
  },
  {
   "cell_type": "code",
   "execution_count": 21,
   "metadata": {},
   "outputs": [],
   "source": [
    "clf1 = SVC( C = 1 , gamma = 'scale' , kernel = \"rbf\")   ## base model\n",
    "clf2 = RandomForestClassifier( n_estimators = 150 , criterion = \"entropy\" , max_depth = 9 )     ## base model\n",
    "clf3 = GradientBoostingClassifier(max_depth = 4, n_estimators = 150)    ## base model\n",
    "clf4 = LogisticRegression()     ## meta classifier"
   ]
  },
  {
   "cell_type": "code",
   "execution_count": 22,
   "metadata": {},
   "outputs": [
    {
     "name": "stdout",
     "output_type": "stream",
     "text": [
      "accuracy: 0.60 ( +- 0.00) [SVC] \n",
      "accuracy: 0.65 ( +- 0.01) [RF] \n",
      "accuracy: 0.64 ( +- 0.01) [GBDT] \n",
      "accuracy: 0.61 ( +- 0.01) [LR] \n"
     ]
    },
    {
     "name": "stderr",
     "output_type": "stream",
     "text": [
      "C:\\Users\\shri\\anaconda3\\lib\\site-packages\\sklearn\\linear_model\\_logistic.py:762: ConvergenceWarning: lbfgs failed to converge (status=1):\n",
      "STOP: TOTAL NO. of ITERATIONS REACHED LIMIT.\n",
      "\n",
      "Increase the number of iterations (max_iter) or scale the data as shown in:\n",
      "    https://scikit-learn.org/stable/modules/preprocessing.html\n",
      "Please also refer to the documentation for alternative solver options:\n",
      "    https://scikit-learn.org/stable/modules/linear_model.html#logistic-regression\n",
      "  n_iter_i = _check_optimize_result(\n"
     ]
    }
   ],
   "source": [
    "sclf = StackingClassifier( classifiers = [ clf1 , clf2 , clf3] , meta_classifier = clf4)\n",
    "\n",
    "for clf,label in zip([ clf1 , clf2 , clf3 , clf4 ] , [ \"SVC\" , \"RF\" , \"GBDT\" , \"LR\"]):\n",
    "    scores = model_selection.cross_val_score(clf , x_train , y_train , cv = 3 , scoring = \"accuracy\" )\n",
    "    print(\"accuracy: %0.2f ( +- %0.2f) [%s] \"% ( scores.mean() , scores.std() , label))"
   ]
  },
  {
   "cell_type": "code",
   "execution_count": 32,
   "metadata": {},
   "outputs": [
    {
     "name": "stdout",
     "output_type": "stream",
     "text": [
      "accuracy is 0.6510681586978637\n"
     ]
    }
   ],
   "source": [
    "sclf.fit( x_train , y_train )\n",
    "predicted_y = sclf.predict(x_test)\n",
    "\n",
    "accuracy = accuracy_score( y_test , predicted_y )\n",
    "\n",
    "print(\"accuracy is {}\".format(accuracy))\n",
    "##plot_confusion_matrix(sclf , x_test , y_test)"
   ]
  },
  {
   "cell_type": "code",
   "execution_count": 33,
   "metadata": {},
   "outputs": [],
   "source": [
    "### lets load featurised data and then perform classification on that"
   ]
  },
  {
   "cell_type": "code",
   "execution_count": 34,
   "metadata": {},
   "outputs": [],
   "source": [
    "data2 = pd.read_csv(\"featurised_data.csv\")"
   ]
  },
  {
   "cell_type": "code",
   "execution_count": 35,
   "metadata": {},
   "outputs": [
    {
     "data": {
      "text/html": [
       "<div>\n",
       "<style scoped>\n",
       "    .dataframe tbody tr th:only-of-type {\n",
       "        vertical-align: middle;\n",
       "    }\n",
       "\n",
       "    .dataframe tbody tr th {\n",
       "        vertical-align: top;\n",
       "    }\n",
       "\n",
       "    .dataframe thead th {\n",
       "        text-align: right;\n",
       "    }\n",
       "</style>\n",
       "<table border=\"1\" class=\"dataframe\">\n",
       "  <thead>\n",
       "    <tr style=\"text-align: right;\">\n",
       "      <th></th>\n",
       "      <th>ph</th>\n",
       "      <th>Hardness</th>\n",
       "      <th>Solids</th>\n",
       "      <th>Chloramines</th>\n",
       "      <th>Conductivity</th>\n",
       "      <th>Organic_carbon</th>\n",
       "      <th>Turbidity</th>\n",
       "      <th>Sulfate</th>\n",
       "      <th>Trihalomethanes</th>\n",
       "      <th>ph2</th>\n",
       "      <th>Sulphate2</th>\n",
       "      <th>Trihalomethane</th>\n",
       "    </tr>\n",
       "  </thead>\n",
       "  <tbody>\n",
       "    <tr>\n",
       "      <th>0</th>\n",
       "      <td>4.048281e-14</td>\n",
       "      <td>0.259155</td>\n",
       "      <td>-0.139450</td>\n",
       "      <td>0.112398</td>\n",
       "      <td>1.708693</td>\n",
       "      <td>-1.180470</td>\n",
       "      <td>-1.286101</td>\n",
       "      <td>9.612107e-01</td>\n",
       "      <td>1.305950</td>\n",
       "      <td>2.381253</td>\n",
       "      <td>-0.559402</td>\n",
       "      <td>-0.228051</td>\n",
       "    </tr>\n",
       "    <tr>\n",
       "      <th>1</th>\n",
       "      <td>-2.288990e+00</td>\n",
       "      <td>-2.036103</td>\n",
       "      <td>-0.385928</td>\n",
       "      <td>-0.307647</td>\n",
       "      <td>2.062260</td>\n",
       "      <td>0.270556</td>\n",
       "      <td>0.684113</td>\n",
       "      <td>-3.460058e-14</td>\n",
       "      <td>-0.638383</td>\n",
       "      <td>-0.419819</td>\n",
       "      <td>1.787078</td>\n",
       "      <td>-0.228051</td>\n",
       "    </tr>\n",
       "    <tr>\n",
       "      <th>2</th>\n",
       "      <td>6.927620e-01</td>\n",
       "      <td>0.847535</td>\n",
       "      <td>-0.240011</td>\n",
       "      <td>1.360386</td>\n",
       "      <td>-0.094018</td>\n",
       "      <td>0.780998</td>\n",
       "      <td>-1.167187</td>\n",
       "      <td>-3.460058e-14</td>\n",
       "      <td>0.001509</td>\n",
       "      <td>-0.419819</td>\n",
       "      <td>1.787078</td>\n",
       "      <td>-0.228051</td>\n",
       "    </tr>\n",
       "    <tr>\n",
       "      <th>3</th>\n",
       "      <td>8.408220e-01</td>\n",
       "      <td>0.547568</td>\n",
       "      <td>0.000493</td>\n",
       "      <td>0.591917</td>\n",
       "      <td>-0.778711</td>\n",
       "      <td>1.254943</td>\n",
       "      <td>0.848282</td>\n",
       "      <td>6.394214e-01</td>\n",
       "      <td>2.152545</td>\n",
       "      <td>-0.419819</td>\n",
       "      <td>-0.559402</td>\n",
       "      <td>-0.228051</td>\n",
       "    </tr>\n",
       "    <tr>\n",
       "      <th>4</th>\n",
       "      <td>1.368360e+00</td>\n",
       "      <td>-0.464358</td>\n",
       "      <td>-0.460178</td>\n",
       "      <td>-0.363642</td>\n",
       "      <td>-0.343886</td>\n",
       "      <td>-0.824231</td>\n",
       "      <td>0.138764</td>\n",
       "      <td>-6.540767e-01</td>\n",
       "      <td>-2.181266</td>\n",
       "      <td>-0.419819</td>\n",
       "      <td>-0.559402</td>\n",
       "      <td>-0.228051</td>\n",
       "    </tr>\n",
       "  </tbody>\n",
       "</table>\n",
       "</div>"
      ],
      "text/plain": [
       "             ph  Hardness    Solids  Chloramines  Conductivity  \\\n",
       "0  4.048281e-14  0.259155 -0.139450     0.112398      1.708693   \n",
       "1 -2.288990e+00 -2.036103 -0.385928    -0.307647      2.062260   \n",
       "2  6.927620e-01  0.847535 -0.240011     1.360386     -0.094018   \n",
       "3  8.408220e-01  0.547568  0.000493     0.591917     -0.778711   \n",
       "4  1.368360e+00 -0.464358 -0.460178    -0.363642     -0.343886   \n",
       "\n",
       "   Organic_carbon  Turbidity       Sulfate  Trihalomethanes       ph2  \\\n",
       "0       -1.180470  -1.286101  9.612107e-01         1.305950  2.381253   \n",
       "1        0.270556   0.684113 -3.460058e-14        -0.638383 -0.419819   \n",
       "2        0.780998  -1.167187 -3.460058e-14         0.001509 -0.419819   \n",
       "3        1.254943   0.848282  6.394214e-01         2.152545 -0.419819   \n",
       "4       -0.824231   0.138764 -6.540767e-01        -2.181266 -0.419819   \n",
       "\n",
       "   Sulphate2  Trihalomethane  \n",
       "0  -0.559402       -0.228051  \n",
       "1   1.787078       -0.228051  \n",
       "2   1.787078       -0.228051  \n",
       "3  -0.559402       -0.228051  \n",
       "4  -0.559402       -0.228051  "
      ]
     },
     "execution_count": 35,
     "metadata": {},
     "output_type": "execute_result"
    }
   ],
   "source": [
    "data2.head(5)"
   ]
  },
  {
   "cell_type": "code",
   "execution_count": 42,
   "metadata": {},
   "outputs": [],
   "source": [
    "x_train2 , x_test2 , y_train2 , y_test2 = train_test_split( data2 , data_labels , test_size = 0.3 )\n",
    "\n",
    "\n",
    "x_train2 = pd.get_dummies(x_train2)\n",
    "x_test2 = pd.get_dummies(x_test2)\n",
    "\n"
   ]
  },
  {
   "cell_type": "code",
   "execution_count": 43,
   "metadata": {},
   "outputs": [
    {
     "name": "stdout",
     "output_type": "stream",
     "text": [
      "accuracy: 0.67 ( +- 0.00) [SVC] \n",
      "accuracy: 0.66 ( +- 0.01) [RF] \n",
      "accuracy: 0.64 ( +- 0.01) [GBDT] \n",
      "accuracy: 0.61 ( +- 0.00) [LR] \n"
     ]
    }
   ],
   "source": [
    "clf1 = SVC( C = 1 , gamma = 'scale' , kernel = \"rbf\")   ## base model\n",
    "clf2 = RandomForestClassifier( n_estimators = 150 , criterion = \"entropy\" , max_depth = 9 )     ## base model\n",
    "clf3 = GradientBoostingClassifier(max_depth = 4, n_estimators = 150)    ## base model\n",
    "clf4 = LogisticRegression()     ## meta classifier\n",
    "\n",
    "\n",
    "sclf = StackingClassifier( classifiers = [ clf1 , clf2 , clf3] , meta_classifier = clf4)\n",
    "\n",
    "for clf,label in zip([ clf1 , clf2 , clf3 , clf4 ] , [ \"SVC\" , \"RF\" , \"GBDT\" , \"LR\"]):\n",
    "    scores = model_selection.cross_val_score(clf , x_train2 , y_train2 , cv = 3 , scoring = \"accuracy\" )\n",
    "    print(\"accuracy: %0.2f ( +- %0.2f) [%s] \"% ( scores.mean() , scores.std() , label))"
   ]
  },
  {
   "cell_type": "code",
   "execution_count": 45,
   "metadata": {},
   "outputs": [
    {
     "name": "stdout",
     "output_type": "stream",
     "text": [
      "accuracy is 0.62970498474059\n"
     ]
    }
   ],
   "source": [
    "sclf.fit( x_train2 , y_train2 )\n",
    "predicted_y = sclf.predict(x_test2)\n",
    "\n",
    "accuracy = accuracy_score( y_test2 , predicted_y )\n",
    "\n",
    "print(\"accuracy is {}\".format(accuracy))\n",
    "##plot_confusion_matrix(sclf , x_test , y_test)"
   ]
  },
  {
   "cell_type": "code",
   "execution_count": 46,
   "metadata": {},
   "outputs": [],
   "source": [
    "### using probability values as meta features"
   ]
  },
  {
   "cell_type": "code",
   "execution_count": 47,
   "metadata": {},
   "outputs": [
    {
     "name": "stdout",
     "output_type": "stream",
     "text": [
      "accuracy: 0.67 ( +- 0.00) [SVC] \n",
      "accuracy: 0.66 ( +- 0.01) [RF] \n",
      "accuracy: 0.64 ( +- 0.01) [GBDT] \n",
      "accuracy: 0.61 ( +- 0.00) [LR] \n"
     ]
    }
   ],
   "source": [
    "clf1 = SVC( C = 1 , gamma = 'scale' , kernel = \"rbf\")   ## base model\n",
    "clf2 = RandomForestClassifier( n_estimators = 150 , criterion = \"entropy\" , max_depth = 9 )     ## base model\n",
    "clf3 = GradientBoostingClassifier(max_depth = 4, n_estimators = 150)    ## base model\n",
    "clf4 = LogisticRegression()     ## meta classifier\n",
    "\n",
    "\n",
    "sclf = StackingClassifier( classifiers = [ clf1 , clf2 , clf3] , meta_classifier = clf4 , use_probas = True)\n",
    "\n",
    "for clf,label in zip([ clf1 , clf2 , clf3 , clf4 ] , [ \"SVC\" , \"RF\" , \"GBDT\" , \"LR\"]):\n",
    "    scores = model_selection.cross_val_score(clf , x_train2 , y_train2 , cv = 3 , scoring = \"accuracy\" )\n",
    "    print(\"accuracy: %0.2f ( +- %0.2f) [%s] \"% ( scores.mean() , scores.std() , label))"
   ]
  },
  {
   "cell_type": "code",
   "execution_count": 54,
   "metadata": {},
   "outputs": [
    {
     "name": "stdout",
     "output_type": "stream",
     "text": [
      "accuracy: 0.61 ( +- 0.00) [SVC] \n",
      "accuracy: 0.65 ( +- 0.01) [RF] \n",
      "accuracy: 0.64 ( +- 0.00) [GBDT] \n",
      "accuracy: 0.61 ( +- 0.00) [LR] \n"
     ]
    }
   ],
   "source": [
    "clf1 = SVC( C = 1 , gamma = 'scale' , kernel = \"rbf\")   ## base model\n",
    "clf2 = RandomForestClassifier( n_estimators = 150 , criterion = \"entropy\" , max_depth = 9 )     ## base model\n",
    "clf3 = GradientBoostingClassifier(max_depth = 4, n_estimators = 150)    ## base model\n",
    "clf4 = LogisticRegression()     ## meta classifier\n",
    "\n",
    "\n",
    "sclf = StackingClassifier( classifiers = [ clf1 , clf2 , clf3] , meta_classifier = clf4 ,use_probas = True)\n",
    "\n",
    "for clf,label in zip([ clf1 , clf2 , clf3 , clf4 ] , [ \"SVC\" , \"RF\" , \"GBDT\" , \"LR\"]):\n",
    "    scores = model_selection.cross_val_score(clf , x_train , y_train , cv = 3 , scoring = \"accuracy\" )\n",
    "    print(\"accuracy: %0.2f ( +- %0.2f) [%s] \"% ( scores.mean() , scores.std() , label))"
   ]
  },
  {
   "cell_type": "code",
   "execution_count": null,
   "metadata": {},
   "outputs": [],
   "source": []
  }
 ],
 "metadata": {
  "kernelspec": {
   "display_name": "Python 3",
   "language": "python",
   "name": "python3"
  },
  "language_info": {
   "codemirror_mode": {
    "name": "ipython",
    "version": 3
   },
   "file_extension": ".py",
   "mimetype": "text/x-python",
   "name": "python",
   "nbconvert_exporter": "python",
   "pygments_lexer": "ipython3",
   "version": "3.8.5"
  }
 },
 "nbformat": 4,
 "nbformat_minor": 4
}
